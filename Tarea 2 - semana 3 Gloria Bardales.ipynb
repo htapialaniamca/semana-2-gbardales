{
 "cells": [
  {
   "cell_type": "markdown",
   "metadata": {},
   "source": [
    "Ejercicio Tarea 2"
   ]
  },
  {
   "cell_type": "code",
   "execution_count": 24,
   "metadata": {
    "collapsed": false
   },
   "outputs": [],
   "source": [
    "import numpy as np\n",
    "import ipyparallel as ipp\n",
    "import matplotlib.pyplot as plt"
   ]
  },
  {
   "cell_type": "code",
   "execution_count": 25,
   "metadata": {
    "collapsed": false
   },
   "outputs": [],
   "source": [
    "c = ipp.Client()\n",
    "dview = c[:]"
   ]
  },
  {
   "cell_type": "markdown",
   "metadata": {},
   "source": [
    "Cambiar exponente y hacer una gráfica con los tiempos obtenidos con cada exponente"
   ]
  },
  {
   "cell_type": "code",
   "execution_count": 48,
   "metadata": {
    "collapsed": false
   },
   "outputs": [
    {
     "name": "stdout",
     "output_type": "stream",
     "text": [
      "10000 loops, best of 3: 28.2 µs per loop\n"
     ]
    }
   ],
   "source": [
    "%%timeit\n",
    "x=2**13 \n",
    "for i in np.arange(int(x**0.5)+1)[2:]:\n",
    "    x%i"
   ]
  },
  {
   "cell_type": "code",
   "execution_count": 57,
   "metadata": {
    "collapsed": false
   },
   "outputs": [],
   "source": [
    "def funcionClase(n):\n",
    "    import numpy as np\n",
    "    x = 2**n\n",
    "    for i in np.arange(int(x**0.5)+1):\n",
    "        x%i"
   ]
  },
  {
   "cell_type": "code",
   "execution_count": 64,
   "metadata": {
    "collapsed": false
   },
   "outputs": [],
   "source": [
    "from time import time\n",
    "\n",
    "prueba1 = []\n",
    "prueba2 = []\n",
    "\n",
    "for i in np.arange(25):\n",
    "    t = time()\n",
    "    dview.map_sync(funcionClase, range(25))\n",
    "    t2 = time()\n",
    "    prueba1.append(t2-t)\n",
    "\n",
    "for i in np.arange(25):\n",
    "    t = time()\n",
    "    c[0].apply_sync(funcionClase, 2**i)\n",
    "    t2 = time()\n",
    "    prueba2.append(t2-t)"
   ]
  },
  {
   "cell_type": "code",
   "execution_count": 65,
   "metadata": {
    "collapsed": false
   },
   "outputs": [
    {
     "data": {
      "image/png": "[encoded data removed]",
      "text/plain": [
       "<matplotlib.figure.Figure at 0x9704be0>"
      ]
     },
     "metadata": {},
     "output_type": "display_data"
    }
   ],
   "source": [
    "plt.plot(prueba1, label = \"Prueba 1-Apply\")\n",
    "plt.plot(prueba2, label = \"Prueba 2-Map\")\n",
    "legend(loc='upper right')\n",
    "plt.show()"
   ]
  },
  {
   "cell_type": "markdown",
   "metadata": {},
   "source": [
    "Comparar tiempos de PrimeQA, PrimeQB, PrimeQC utilizando apply_sync"
   ]
  },
  {
   "cell_type": "code",
   "execution_count": 28,
   "metadata": {
    "collapsed": true
   },
   "outputs": [],
   "source": [
    "def PrimeQA(x):\n",
    "    import numpy as np\n",
    "    return all(x % i for i in np.arange(int(x**0.5)+1)[2:])"
   ]
  },
  {
   "cell_type": "code",
   "execution_count": 29,
   "metadata": {
    "collapsed": true
   },
   "outputs": [],
   "source": [
    "def PrimeQB(x):\n",
    "    import numpy as np\n",
    "    return np.all(np.array([x % i for i in np.arange(np.int(x**0.5)+1)[2:]]))"
   ]
  },
  {
   "cell_type": "code",
   "execution_count": 30,
   "metadata": {
    "collapsed": true
   },
   "outputs": [],
   "source": [
    "def PrimeQC(x):\n",
    "    import numpy as np\n",
    "    lista = np.arange(np.int(x**0.5)+1)[2:]\n",
    "    residuos = np.mod(x,lista)\n",
    "    return np.all(residuos)"
   ]
  },
  {
   "cell_type": "code",
   "execution_count": 31,
   "metadata": {
    "collapsed": false
   },
   "outputs": [
    {
     "name": "stderr",
     "output_type": "stream",
     "text": [
      "C:\\Anaconda2\\lib\\site-packages\\dateutil\\parser.py:605: UnicodeWarning: Unicode equal comparison failed to convert both arguments to Unicode - interpreting them as being unequal\n",
      "  elif res.tzname and res.tzname in time.tzname:\n"
     ]
    },
    {
     "data": {
      "text/plain": [
       "[0.026999950408935547,\n",
       " 0.023000001907348633,\n",
       " 0.017999887466430664,\n",
       " 0.02200007438659668,\n",
       " 0.019999980926513672,\n",
       " 0.021000146865844727,\n",
       " 0.021999835968017578,\n",
       " 0.023000001907348633,\n",
       " 0.021000146865844727,\n",
       " 0.02499985694885254,\n",
       " 0.019999980926513672,\n",
       " 0.024000167846679688,\n",
       " 0.020999908447265625,\n",
       " 0.02200007438659668,\n",
       " 0.021999835968017578,\n",
       " 0.02200007438659668,\n",
       " 0.019999980926513672,\n",
       " 0.021000146865844727,\n",
       " 0.026999950408935547,\n",
       " 0.02499985694885254,\n",
       " 0.018000125885009766,\n",
       " 0.026000022888183594,\n",
       " 0.02499985694885254,\n",
       " 0.024000167846679688,\n",
       " 0.019999980926513672]"
      ]
     },
     "execution_count": 31,
     "metadata": {},
     "output_type": "execute_result"
    }
   ],
   "source": [
    "from time import time\n",
    "n=25\n",
    "\n",
    "datosQA=[]\n",
    "for i in np.arange(n):\n",
    "    t = time()\n",
    "    c[0].apply_sync(PrimeQA,2**i)\n",
    "    t2=time()\n",
    "    datosQA.append(t2-t)\n",
    "datosQA\n",
    "\n",
    "datosQB=[]\n",
    "for i in np.arange(n):\n",
    "    t = time()\n",
    "    c[0].apply_sync(PrimeQB,2**i)\n",
    "    t2=time()\n",
    "    datosQB.append(t2-t)\n",
    "datosQB\n",
    "\n",
    "datosQC=[]\n",
    "for i in np.arange(n):\n",
    "    t = time()\n",
    "    c[0].apply_sync(PrimeQC,2**i)\n",
    "    t2=time()\n",
    "    datosQC.append(t2-t)\n",
    "datosQC"
   ]
  },
  {
   "cell_type": "code",
   "execution_count": 58,
   "metadata": {
    "collapsed": false
   },
   "outputs": [
    {
     "data": {
      "image/png": "[encoded data removed]",
      "text/plain": [
       "<matplotlib.figure.Figure at 0xa018828>"
      ]
     },
     "metadata": {},
     "output_type": "display_data"
    }
   ],
   "source": [
    "from pylab import *\n",
    "plt.plot(datosQA, label ='PrimeQA')\n",
    "plt.plot(datosQB, label ='PrimeQB')\n",
    "plt.plot(datosQC, label ='PrimeQC')\n",
    "legend(loc='upper right')\n",
    "xlabel('N')\n",
    "ylabel('Tiempo')\n",
    "title('Apply_sync')\n",
    "\n",
    "plt.show()"
   ]
  },
  {
   "cell_type": "markdown",
   "metadata": {},
   "source": [
    "Comparar tiempos de PrimeQA, PrimeQB, PrimeQC utilizando apply_sync"
   ]
  },
  {
   "cell_type": "code",
   "execution_count": 53,
   "metadata": {
    "collapsed": false
   },
   "outputs": [
    {
     "data": {
      "text/plain": [
       "[0.0989999771118164,\n",
       " 0.09500002861022949,\n",
       " 0.08699989318847656,\n",
       " 0.09500002861022949,\n",
       " 0.0839998722076416,\n",
       " 0.07599997520446777,\n",
       " 0.07700014114379883,\n",
       " 0.08100008964538574,\n",
       " 0.08499979972839355,\n",
       " 0.07899999618530273,\n",
       " 0.08700013160705566,\n",
       " 0.08299994468688965,\n",
       " 0.07699990272521973,\n",
       " 0.07400012016296387,\n",
       " 0.08699989318847656,\n",
       " 0.0840001106262207,\n",
       " 0.08299994468688965,\n",
       " 0.0840001106262207,\n",
       " 0.08099985122680664,\n",
       " 0.08000016212463379,\n",
       " 0.08499979972839355,\n",
       " 0.08100008964538574,\n",
       " 0.0820000171661377,\n",
       " 0.08500003814697266,\n",
       " 0.07299995422363281]"
      ]
     },
     "execution_count": 53,
     "metadata": {},
     "output_type": "execute_result"
    }
   ],
   "source": [
    "from time import time\n",
    "n=25\n",
    "\n",
    "datosQA=[]\n",
    "for i in np.arange(n):\n",
    "    t = time()\n",
    "    dview.map_sync(PrimeQA, 2**np.arange(n))\n",
    "    t2=time()\n",
    "    datosQA.append(t2-t)\n",
    "datosQA\n",
    "\n",
    "datosQB=[]\n",
    "for i in np.arange(n):\n",
    "    t = time()\n",
    "    dview.map_sync(PrimeQB, 2**np.arange(n))\n",
    "    t2=time()\n",
    "    datosQB.append(t2-t)\n",
    "datosQB\n",
    "\n",
    "datosQC=[]\n",
    "for i in np.arange(n):\n",
    "    t = time()\n",
    "    dview.map_sync(PrimeQC, 2**np.arange(n))\n",
    "    t2=time()\n",
    "    datosQC.append(t2-t)\n",
    "datosQC"
   ]
  },
  {
   "cell_type": "code",
   "execution_count": 59,
   "metadata": {
    "collapsed": false
   },
   "outputs": [
    {
     "data": {
      "image/png": "[encoded data removed]",
      "text/plain": [
       "<matplotlib.figure.Figure at 0x9e67cf8>"
      ]
     },
     "metadata": {},
     "output_type": "display_data"
    }
   ],
   "source": [
    "from pylab import *\n",
    "plt.plot(datosQA, label ='PrimeQA')\n",
    "plt.plot(datosQB, label ='PrimeQB')\n",
    "plt.plot(datosQC, label ='PrimeQC')\n",
    "legend(loc='upper right')\n",
    "xlabel('N')\n",
    "ylabel('Tiempo')\n",
    "title('map_sync')\n",
    "\n",
    "plt.show()"
   ]
  }
 ],
 "metadata": {
  "kernelspec": {
   "display_name": "Python 2",
   "language": "python",
   "name": "python2"
  },
  "language_info": {
   "codemirror_mode": {
    "name": "ipython",
    "version": 2
   },
   "file_extension": ".py",
   "mimetype": "text/x-python",
   "name": "python",
   "nbconvert_exporter": "python",
   "pygments_lexer": "ipython2",
   "version": "2.7.13"
  }
 },
 "nbformat": 4,
 "nbformat_minor": 2
}
